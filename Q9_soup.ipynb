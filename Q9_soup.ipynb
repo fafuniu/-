{
 "cells": [
  {
   "cell_type": "code",
   "execution_count": 8,
   "metadata": {
    "ExecuteTime": {
     "end_time": "2019-11-26T05:13:01.083661Z",
     "start_time": "2019-11-26T05:12:59.226305Z"
    }
   },
   "outputs": [
    {
     "name": "stdout",
     "output_type": "stream",
     "text": [
      "<class 'bs4.BeautifulSoup'>\n",
      "0 高级/资深数据分析师(024520) 唯品会（中国）有限公司 异地招聘 1.7-2.2万/月 11-26\n",
      "1 （零基础，周末双休）金融数据分析师 深圳市隆汇达投资咨询服务有限公司... 深圳-罗湖区 0.8-1万/月 11-26\n",
      "2 数据分析师（在线教育APP） 上海行动教育科技股份有限公司 上海-闵行区 1-1.5万/月 11-26\n",
      "3 数据分析师（双休五险一金包住） 山东力威经贸有限公司 潍坊 3-4.5千/月 11-26\n",
      "4 商品数据分析师（罗莱主品牌） 上海伟发投资控股有限公司 上海-闵行区 1.5-2万/月 11-26\n",
      "5 金融数据分析师 双休 五险不加班02 武汉益越商务信息咨询有限公司 武汉-江汉区 0.6-1万/月 11-26\n",
      "6 数据分析师（6k+提成+双休） 广东兆丰恒业黄金有限公司 广州-天河区 0.6-2万/月 11-26\n",
      "7 数据分析师 安徽省群力文化传媒有限公司 合肥 6-8千/月 11-26\n",
      "8 高级数据分析师/面向985 北京丽兹行房地产顾问有限公司-BJ... 北京-朝阳区 1.5-2万/月 11-26\n",
      "9 高级数据分析师/大平台+双休 北京丽兹行房地产顾问有限公司-BJ... 北京-朝阳区 1.5-2万/月 11-26\n",
      "10 Senior Data Analyst 高级数据分析师 上海唯都市场营销策划股份有限公司... 上海-徐汇区 1-1.5万/月 11-26\n",
      "11 数据分析师（商品方向） 深圳华秋电子有限公司 深圳-福田区 1.3-2万/月 11-26\n",
      "12 数据分析师(成都） 北京中海华晟信息技术有限公司西安... 成都-武侯区 5-8千/月 11-26\n",
      "13 高级数据分析师（财务） 深圳海伦司企业管理有限公司 深圳-南山区 3-3.2万/月 11-26\n",
      "14 Python数据分析师 杭州味捷品牌管理集团有限公司 杭州-滨江区 1-1.5万/月 11-26\n",
      "15 数据分析师 南京元亦飞信息科技有限公司 南京-建邺区 0.8-1.6万/月 11-26\n",
      "16 数据分析师 广州市佩升前研市场信息咨询股份有... 广州 6-8千/月 11-26\n",
      "17 数据分析师 西安丹斯优步信息技术有限公司 西安 4.5-6千/月 11-26\n",
      "18 财务数据分析师 传神语联网网络科技股份有限公司 武汉-东湖新技... 5-8千/月 11-26\n",
      "19 数据分析师 安徽省富光实业股份有限公司 合肥 5-7千/月 11-26\n",
      "20 数据分析师 上海志行合力网络技术有限公司 武汉-硚口区 0.5-1万/月 11-26\n",
      "21 电商数据分析师 广东安之伴实业有限公司 广州-番禺区 1.2-1.5万/月 11-26\n",
      "22 数据分析师 广州统一企业有限公司 广州-黄埔区 5.5-8千/月 11-26\n",
      "23 数据分析师（医疗方向） 昆山韦睿医疗科技有限公司 上海-青浦区 1-1.5万/月 11-26\n",
      "24 高级BI数据分析师 上海汇银（集团）有限公司 上海-静安区 1.5-2.5万/月 11-26\n",
      "25 数据分析师/数据挖掘师 福州咸鱼科技有限公司 福州 0.8-1.5万/月 11-26\n",
      "26 IT信息技术员、数据分析师 天津经纬智图信息技术有限公司 天津-滨海新区 4-5千/月 11-26\n",
      "27 学管数据分析师 扬州夏禾教育科技咨询有限公司 扬州 4-6千/月 11-26\n",
      "28 数据分析师 苏州赛奥科传媒有限公司 苏州-相城区 0.8-1.5万/月 11-26\n",
      "29 IT应用工程师（IT应用支撑、大数据分析师、IT基础设施运维工程师） 中国电信广东公司 广州  11-26\n",
      "30 数据分析师（提供住宿） 深圳市金畅进出口有限公司 深圳  11-26\n",
      "31 管理培训生（助理数据分析师） 广州诺米品牌管理有限公司 广州 6-8千/月 11-26\n",
      "32 数据分析师 北京卓思天成数据咨询股份有限公司... 北京 0.8-1万/月 11-26\n",
      "33 数据分析师 “前程无忧”51job.com（上海） 上海-浦东新区  11-26\n",
      "34 资深数据分析师,用户关系数据 NIO蔚来 上海-徐汇区 40-50万/年 11-26\n",
      "35 游戏数据分析师 广州游爱网络技术有限公司 广州 1-1.5万/月 11-26\n",
      "36 数据分析师 杭州斯凯网络科技有限公司 杭州 1.5-2万/月 11-26\n",
      "37 数据分析师（跨境电商方向） 厦门嵘瑞网络科技有限公司 厦门 5-8千/月 11-26\n",
      "38 数据分析师助理（4K+免费培训） 广州固诚信息咨询服务有限公司 广州-天河区 6-8千/月 11-26\n",
      "39 数据分析师 广州固诚信息咨询服务有限公司 广州-天河区 6-8千/月 11-26\n",
      "40 国际金融数据分析师 常州盛百正商务咨询有限公司 常州-新北区 1-1.5万/月 11-26\n",
      "41 数据分析师 成都长盛中资科技有限公司 成都-锦江区 6-8千/月 11-26\n",
      "42 高薪数据分析师（6000+） 成都环宇世纪商务咨询有限公司 成都-高新区 0.8-1万/月 11-26\n",
      "43 数据分析师 马衡达信息技术（上海）有限公司 沈阳-铁西区 1.5-2.5万/月 11-26\n",
      "44 高级数据分析师 克里赛尔易莱纳信息技术（杭州)有... 杭州 20-30万/年 11-26\n",
      "45 数据分析师 上海携宁计算机科技股份有限公司 深圳-南山区 6-8千/月 11-26\n",
      "46 高薪诚聘 数据分析师  双休 无锡元坤资产管理有限公司 无锡-滨湖区 0.8-1万/月 11-26\n",
      "47 数据分析师（HiveQL、ImpalaQl） 上海古星电子商务有限公司 上海 1-2万/月 11-26\n",
      "48 数据分析师 北京开普云信息科技有限公司 异地招聘 1-1.5万/月 11-26\n",
      "49 数据分析师 辽宁纽麦斯国际贸易有限公司 沈阳-皇姑区 3.5-5千/月 11-26\n"
     ]
    }
   ],
   "source": [
    "from lxml import etree\n",
    "import requests \n",
    "import re\n",
    "from bs4 import BeautifulSoup as BS\n",
    "\n",
    "def get_html(url):\n",
    "    headers={\"user-agent\":'Mozilla/5.0 (X11; Ubuntu; Linux x86_64; rv:70.0) Gecko/20100101 Firefox/70.0'}\n",
    "    response=requests.get(url,headers=headers)   \n",
    "    if response.status_code==200:\n",
    "        return response.content\n",
    "def phase_html(html,num):\n",
    "    soup = BS(html, \"html.parser\")\n",
    "    print(type(soup))\n",
    "    for i in soup.find_all('div', class_=\"el\"):\n",
    "        if i.p:\n",
    "            if i.p.attrs[\"class\"][0] == \"t1\":\n",
    "                print(num,end=\" \")\n",
    "                print(i.p.span.text.strip(),end=' ')\n",
    "                print(i.find('span', class_=\"t2\").text,end=' ')\n",
    "                print(i.find('span', class_=\"t3\").text,end=' ')\n",
    "                print(i.find('span', class_=\"t4\").text,end=' ')\n",
    "                print(i.find('span', class_=\"t5\").text,)\n",
    "                num=num+1\n",
    "    return num\n",
    "\n",
    "def main(): \n",
    "    num=0\n",
    "    for i in range(1):\n",
    "        url=\"https://search.51job.com/list/000000,000000,0000,00,9,99,%25E6%2595%25B0%25E6%258D%25AE%25E5%2588%2586%25E6%259E%2590%25E5%25B8%2588,2,{}.html?lang=c&postchannel=0000&workyear=99&cotype=99&degreefrom=99&jobterm=99&companysize=99&ord_field=0&dibiaoid=0&line=&welfare=\".format(i+1)\n",
    "        html=get_html(url).decode(\"gbk\")\n",
    "        num=phase_html(html,num)\n",
    "\n",
    "main()"
   ]
  },
  {
   "cell_type": "code",
   "execution_count": null,
   "metadata": {
    "collapsed": true
   },
   "outputs": [],
   "source": []
  }
 ],
 "metadata": {
  "kernelspec": {
   "display_name": "Python 3",
   "language": "python",
   "name": "python3"
  },
  "language_info": {
   "codemirror_mode": {
    "name": "ipython",
    "version": 3
   },
   "file_extension": ".py",
   "mimetype": "text/x-python",
   "name": "python",
   "nbconvert_exporter": "python",
   "pygments_lexer": "ipython3",
   "version": "3.6.7"
  },
  "toc": {
   "base_numbering": 1,
   "nav_menu": {},
   "number_sections": true,
   "sideBar": true,
   "skip_h1_title": false,
   "title_cell": "Table of Contents",
   "title_sidebar": "Contents ",
   "toc_cell": false,
   "toc_position": {},
   "toc_section_display": true,
   "toc_window_display": false
  }
 },
 "nbformat": 4,
 "nbformat_minor": 2
}
